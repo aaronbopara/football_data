{
 "cells": [
  {
   "cell_type": "markdown",
   "metadata": {},
   "source": [
    "# **Football Data Task 1: Data Revolution in Football Discovery Report** # \n",
    "\n",
    "## **Background** ##\n",
    "This discovery document will provide background information on how data is used in football, its history and some important metrics used in football analysis"
   ]
  },
  {
   "cell_type": "markdown",
   "metadata": {},
   "source": [
    "## **Overview** ##\n",
    "\n",
    "\n",
    "In recent years, data analytics has revolutionized football, transforming the way teams and analysts approach the game. Advances in technology, such as tracking systems and video analysis, have made it possible to collect detailed data on nearly every aspect of a match—from player movements and passing patterns to sophisticated metrics like Expected Goals (xG) and Expected Assists (xA). This data-driven approach has empowered teams to make more informed tactical decisions, refine their scouting processes, and customize training programs to meet individual players' needs.\n",
    "\n",
    "Moreover, the availability of these insights has changed the way fans and pundits engage with the game, providing a deeper understanding and sparking more nuanced discussions. As a result, football has entered a new era where analytics and strategic thinking are integral to both on-field performance and off-field decision-making.\n"
   ]
  },
  {
   "cell_type": "markdown",
   "metadata": {},
   "source": [
    "## **Brief History** ##\n",
    "\n",
    "* Inspired by the \"Moneyball\" strategy of the Oakland Athletics, which utilized advanced statistical analysis to identify undervalued players and make data-driven decisions. \n",
    "\n",
    "* Derby County pioneered the use of these techniques in the UK in 1998. They were among the first to adopt systematic analysis methods and hire performance analysts, making data accessible to managers and reducing the reliance on VHS footage.\n",
    "\n",
    "* Under Sam Allardyce, Bolton Wanderers were early adopters of data analytics, achieving modest success through its use. \n",
    "\n",
    "* Liverpool FC, with the backing of Fenway Sports Group and the management of Jürgen Klopp, further advanced the integration of data analytics in recruitment and game management. Their efforts have been rewarded with Premier League and UEFA Champions League titles, supported by a team of data professionals including physicists from CERN and the University of Cambridge.\n",
    "\n",
    "* Liverpool also collaborated with Google's DeepMind AI team to develop TacticAI, a football tactics assistant that helps coaches optimize player setups for corner kicks by predicting the most successful strategies.\n",
    "\n",
    "* Brentford FC, under the ownership of Matthew Benham, an Oxford Physics graduate, has embraced a data-heavy approach to football management, using analytics to identify undervalued players and enhance performance.\n",
    "\n",
    "* Teams such as Arsenal, Chelsea, and Manchester City have also made significant investments in data analytics. They use this technology to refine tactics, scouting, player development, set pieces, and recruitment strategies.\n"
   ]
  },
  {
   "cell_type": "markdown",
   "metadata": {},
   "source": [
    "## **Data Revolution : Expected Goals** ##\n",
    "\n",
    "* Expected Goals (xG) is a groundbreaking metric in football that provides a deeper understanding of team and player performance beyond the final scoreline. In a sport where goals are infrequent, xG offers a more nuanced evaluation by assessing the likelihood of a shot resulting in a goal. This metric is based on historical data from thousands of similar shots, calculating the probability of success on a scale from 0 to 1. For example, a shot with an xG of 0.2 is expected to score roughly once in five attempts.\n",
    "\n",
    "* xG takes into account various factors such as the distance from goal, angle, body part used, type of assist, and the context of the previous play. Some providers, like Statbomb, enhance this with additional data, including goalkeeper position, the positioning of attackers and defenders, and the height of the shot's impact.\n",
    "\n",
    "* Research by Lars Maurath indicates that depending on the model's quality, between 79% and 93% of team seasons are expected to align with xG to goals within a 95% confidence interval. This metric has revealed valuable insights, such as the preference for central shots over headers, the greater success rate of foot shots compared to headers, the difficulty of scoring from crosses, and the importance of shot quality.\n",
    "\n",
    "* xG is useful for both team and player analysis, helping to identify overperformers and underperformers, and predicting changes in performance. It also sheds light on when players are experiencing hot or cold streaks. Additionally, xG can assist in scouting for head coaches and is employed in predictive modeling by bookmakers and professional gamblers to forecast future results."
   ]
  },
  {
   "cell_type": "markdown",
   "metadata": {},
   "source": [
    "\n",
    "\n",
    "## **General Metrics** ##\n",
    "\n",
    "Football metrics are often presented as success rates or averages per 90 minutes and can be categorized by team or individual player performance.\n",
    "\n",
    "* **Minutes Played**: The total number of minutes a player has participated in matches. \n",
    "\n",
    "* **Goals**: The total number of goals scored.\n",
    "\n",
    "* **Assists**: The number of key passes that directly result in a goal.\n",
    "\n",
    "* **Cards**: The total number of yellow and red cards received."
   ]
  },
  {
   "cell_type": "markdown",
   "metadata": {},
   "source": [
    "## **In Possession Metrics** ##\n",
    "\n",
    "\n",
    "Football metrics are often presented as success rates or averages per 90 minutes and can be categorized by team or individual player performance.\n",
    "\n",
    "* **Expected Goals (xG)**: Estimates the probability of a shot resulting in a goal, based on historical data. Penalties are assigned a static xG value of 0.76, reflecting their historic conversion rate.\n",
    "\n",
    "* **Post-Shot Expected Goals (PSxG)** : Builds on xG by evaluating the quality of the shot itself, including factors like shot placement and power.\n",
    "\n",
    "* **Expected Assists (xA)** : Measures the likelihood that a completed pass will lead to a goal, considering factors such as pass type, end point, and pass length.\n",
    "\n",
    "* **Expected Threat (xT)**: Assesses the probability of scoring a goal as the ball progresses through different areas of the pitch.\n",
    "\n",
    "* **Shots Completed per 90 Minutes (SH90)**: Calculates the average number of shots a player takes per 90 minutes using the formula: (total shots / minutes played) * 90\n",
    "\n",
    "* **Shot Creating Actions (SCA)**: Includes any two offensive actions that directly lead to a shot.\n",
    "\n",
    "* **Goal Creating Actions (GCA)**: Includes any two offensive actions that directly lead to a goal.\n",
    "\n",
    "* **Pass Completion Rate**: The percentage of successful passes out of the total attempted passes.\n",
    "\n",
    "* **Progressive Passes**: Passes that significantly advance the ball towards the opponent’s goal. This can be expressed as a percentage of total passes, passes per 90 minutes, or as an absolute number.\n",
    "\n",
    "* **Passes into the Final Third**: The number of passes that successfully move the ball into the attacking third of the pitch.\n",
    "\n",
    "* **Key Passes per 90 (KP90)**: The average number of passes per 90 minutes that lead to a shot.\n",
    "\n",
    "* **Passes Completed Under Pressure**: Measures the accuracy of passes made while a player is under direct pressure from an opponent.\n",
    "\n",
    "* **Packing Rate**: Evaluates how many opponents are bypassed by a player’s pass or dribble, reflecting the effectiveness of breaking through defensive lines.\n",
    "\n",
    "* **Passing Networks / Possession Chains**: Analyzes passing patterns and sequences to understand team structure, possession control, and build-up play, typically presented visually.\n",
    "\n",
    "* **Progressive Carries**: Any ball movement towards the opponent’s goal exceeding five meters from the point of receipt.\n",
    "\n",
    "* **Progressive Dribbles**: Successful dribbles that result in beating an opponent while retaining possession.\n",
    "\n",
    "* **Touches in the Opponent’s Box**: Counts how many times a player or team touches the ball within the opponent’s penalty area.\n",
    "\n",
    "* **Fouls Won**: The number of fouls earned.\n",
    "\n",
    "* **Corners Won**: The number of corners awarded.\n"
   ]
  },
  {
   "cell_type": "markdown",
   "metadata": {},
   "source": [
    "## **Out of Possession Metrics** ## \n",
    "\n",
    "\n",
    "Football metrics are often presented as success rates or averages per 90 minutes and can be categorized by team or individual player performance.\n",
    "\n",
    "* **Defensive Actions**: Encompasses various defensive activities, including tackles, interceptions, duels, and blocks.\n",
    "\n",
    "* **Tackles**: Total number of tackles made.\n",
    "\n",
    "* **Blocked Shots**: Number of shots blocked.\n",
    "\n",
    "* **Interceptions**: Total number of interceptions made.\n",
    "\n",
    "* **Duels Won**: Number of successful challenges where a player gains control of the ball, progresses with it, or changes its direction.\n",
    "\n",
    "* **Aerial Duels Won**: The number of successful aerial duels a player wins out of the total contested.\n",
    "\n",
    "* **Fouls Conceded**: Total number of fouls committed by a player or team.\n",
    "\n",
    "* **Corners Conceded**: Number of corners awarded to the opposition as a result of the player or team’s actions.\n",
    "\n",
    "* **Pressures**: Number of times a player or team applies pressure on an opponent who is in possession of the ball.\n",
    "\n",
    "* **Successful Pressures**: Number of instances where applied pressure leads to a turnover or forces the opponent into a mistake.\n",
    "\n",
    "\n"
   ]
  },
  {
   "cell_type": "markdown",
   "metadata": {},
   "source": [
    "## **Other Metrics** ##\n",
    "\n",
    "\n",
    "Football metrics are often presented as success rates or averages per 90 minutes and can be categorized by team or individual player performance.\n",
    "\n",
    "* **Formations**: Various tactical formations employed by teams during matches. Data can be segmented to compare the success rates of different formations.\n",
    "\n",
    "* **Game State**: The status of the game based on the current goal difference between the teams, influencing tactical decisions and strategies.\n",
    "\n",
    "* **Pitch Tilt**: Measures a team's share of possession by focusing specifically on touches or passes within the attacking third of the pitch.\n",
    "\n",
    "* **Interval** Information: Data segmented into 15-minute intervals to analyze performance trends throughout the match.\n",
    "\n",
    "* **Attack Speed**: Assesses the pace of an attack, including player speed, acceleration, pass speed, dribbling speed, transition speed (time taken to move into the final third), counter-attack speed (time from gaining possession to a key pass or goal), and overall attack execution.\n",
    "\n",
    "* **Shot Zones**: Identifies different areas of the pitch where players are positioned when taking a shot.\n",
    "\n",
    "* **Opta Points**: Aggregates a player's on-field statistics into a comprehensive points system, allowing for straightforward comparisons across players, games, leagues, and historical seasons.\n"
   ]
  },
  {
   "cell_type": "markdown",
   "metadata": {},
   "source": [
    "## **Drawbacks of Over-Reliance on Data in Football** ##\n",
    "\n",
    "* **Overemphasis on Quantitative Metrics**: While data offers valuable insights into player performance, it often overlooks the subtleties of the game. Key aspects such as a player’s influence on team dynamics, leadership qualities, mood, and health may not be fully captured by numbers.\n",
    "\n",
    "* **Lack of Context** : Data may fail to account for the specific context of game situations. Elements such as team chemistry, individual player conditions, and environmental factors like pitch and weather conditions are challenging to quantify but can significantly impact performance.\n",
    "\n",
    "* **Misinterpretation of Data**: Data can be interpreted in various ways, leading to different conclusions by analysts. This variability can result in misleading insights and flawed strategic decisions.\n",
    "\n",
    "* **Inconsistent Data Quality**: The quality of data can vary due to differences in collection methods, incomplete information, and discrepancies between data providers. Not all on-pitch actions are recorded or categorized accurately, affecting the reliability of insights.\n",
    "\n",
    "* **Neglecting Intangibles**: Football is influenced by intangible factors such as player morale, team spirit, and momentum. These elements are difficult to quantify but are crucial for understanding game outcomes.\n",
    "\n",
    "* **Predictive Limitations**: Historical data can reveal trends but may not always accurately predict future performance. The unpredictability of football means that data alone cannot account for unexpected events or moments of brilliance and error.\n",
    "\n",
    "* **Overreliance on Historical Trends**: Excessive focus on historical data can lead to a conservative approach, potentially stifling innovation and adaptation. This can hinder teams from embracing new tactics or recognizing emerging trends.\n",
    "\n",
    "* **Inhibiting Creativity**: A heavy reliance on data-driven strategies might suppress creativity and intuition. Football often benefits from spontaneous and imaginative play, which may not align with purely analytical approaches.\n",
    "\n",
    "* **Complex Interactions**: The game involves intricate interactions between players, coaches, and opponents. Data can oversimplify these dynamics, leading to incomplete or flawed analyses.\n",
    "\n",
    "* **Dependence on Player Understanding**: Effective use of data relies on players' ability to understand and act on the insights provided. In the fast-paced nature of football, this can be challenging and may not always align with on-field decision-making.\n",
    "\n",
    "* **Element of Luck**: Football is subject to elements of chance, such as unexpected injuries, deflections, sudden weather changes, and crowd interference. These unpredictable factors can disrupt data models, and events like penalty shootouts introduce a significant degree of randomness.\n"
   ]
  },
  {
   "cell_type": "markdown",
   "metadata": {},
   "source": [
    "# **Data Sources** #\n",
    "\n",
    "### **Python Libraries** ###\n",
    "- MplSocccer - Football based visualtisation packages \n",
    "- StatsBombPy, Understat - Webscraping and football data \n",
    "\n",
    "<br>\n",
    "\n",
    "### **Providers** ###\n",
    "- **Opta** - Game stats, detailed stats for the game, access to opta points. \n",
    "<br>\n",
    "- **Understat** - Football focused, detailed stats across all games, individual player performances and season long stats, Shot data for the game, including the X/Y coordinates. \n",
    "<br>\n",
    "- **SofaScore** - For all sports. Previous Results and basic stats, Fixtures,  Player stats, heatmaps, sofascore player ratings, player values \n",
    "<br>\n",
    "- **Whoscored** - Detailed team breakdowns offering insights into tactics and styles of play. Detailed availability of stats. \n",
    "<br>\n",
    "- **Statbombpy** - This is a paid API to analyse whole games and the associated event data, which is hosted on GitHub. There is also a python library. Fbref\n",
    "<br>\n",
    "- **Fbref** - Football stats and history for matches and clubs, free service but offers access to StatsHead which has acccess to a database \n",
    "<br>\n",
    "- **SportsMonks** -  Paid sports data API\n",
    "<br>\n",
    "- **Wyscout** - Football Analytics company which offers video analysis tools and databases to support scouting \n",
    "<br>"
   ]
  }
 ],
 "metadata": {
  "kernelspec": {
   "display_name": "venv",
   "language": "python",
   "name": "python3"
  },
  "language_info": {
   "codemirror_mode": {
    "name": "ipython",
    "version": 3
   },
   "file_extension": ".py",
   "mimetype": "text/x-python",
   "name": "python",
   "nbconvert_exporter": "python",
   "pygments_lexer": "ipython3",
   "version": "3.9.6"
  }
 },
 "nbformat": 4,
 "nbformat_minor": 2
}
